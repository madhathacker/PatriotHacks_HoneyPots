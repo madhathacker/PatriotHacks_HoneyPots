{
 "cells": [
  {
   "cell_type": "markdown",
   "metadata": {},
   "source": [
    "# Python Tutorial\n",
    "\n",
    "An introduction to the basic of the Python programming language."
   ]
  },
  {
   "cell_type": "markdown",
   "metadata": {},
   "source": [
    "## Jupyter Notebook\n",
    "\n",
    "Jupyter notebooks are used to store Python code blocks along with their output and documentation saved as markdown. \n",
    "\n",
    "To learn more about Jupyter notebooks, check out their website: https://jupyter.org/\n",
    "\n",
    "In Jupyter notebooks there are code blocks and comment blocks. You are currently reading a comment block written in markdown. Now let's take a look at a simple \"hello world\" Python code block."
   ]
  },
  {
   "cell_type": "code",
   "execution_count": 2,
   "metadata": {},
   "outputs": [
    {
     "name": "stdout",
     "output_type": "stream",
     "text": [
      "Hello World\n"
     ]
    }
   ],
   "source": [
    "# This is a Python code block!\n",
    "# We use the # symbol to denote a comment\n",
    "# Python ignores all lines that start with a #, they are here for you!\n",
    "# Let's see what happens when we tell Python to print something out.\n",
    "print(\"Hello World\")"
   ]
  },
  {
   "cell_type": "markdown",
   "metadata": {},
   "source": [
    "Notice how you can run each Python code block by clicking the play button next to it. This will execute the code using Python and then show the code's output (if there is any) below the code block. You can freely edit the code in each block and rerun it one block at a time. Try changing the \"Hello World\" from the above block and rerun the example."
   ]
  },
  {
   "cell_type": "markdown",
   "metadata": {},
   "source": [
    "## Python Basics\n",
    "\n",
    "Python is a high-level interpreted programming language.\n",
    "\n",
    "If you are new to Python, you can check out Python's beginner's guide: https://wiki.python.org/moin/BeginnersGuide\n",
    "\n",
    "If you would like to learn more about something specific in Pyhton, check out Python's documentation: https://docs.python.org/3/"
   ]
  },
  {
   "cell_type": "markdown",
   "metadata": {},
   "source": [
    "### Variables\n",
    "\n",
    "As with many other programming languages, Python has variables; object that can store information. In Python, there are 3 main variables types:\n",
    " - String\n",
    " - Intiger\n",
    " - Boolean\n",
    "\n",
    "If you need to use some piece of information multiple times in your code, creating a variable can save you a lot of time."
   ]
  },
  {
   "cell_type": "code",
   "execution_count": 6,
   "metadata": {},
   "outputs": [
    {
     "name": "stdout",
     "output_type": "stream",
     "text": [
      "Patriot Hacks 2023 True 1 2\n"
     ]
    }
   ],
   "source": [
    "# Variables\n",
    "string = \"Patriot Hacks\"\n",
    "intiger = 2023\n",
    "boolean = True\n",
    "dee, dum = 1, 2 # Yup, you can assign multiple variables at the same time\n",
    "print(string, intiger, boolean, dee, dum)"
   ]
  },
  {
   "cell_type": "markdown",
   "metadata": {},
   "source": [
    "### Iterables\n",
    "\n",
    "Python has 3 different types of iterables:\n",
    " - List - A list of things\n",
    " - Tuple - An unchangeable list\n",
    " - Dictionary - Key, Value pairs"
   ]
  },
  {
   "cell_type": "code",
   "execution_count": 7,
   "metadata": {},
   "outputs": [
    {
     "name": "stdout",
     "output_type": "stream",
     "text": [
      "Santa\n"
     ]
    }
   ],
   "source": [
    "# Iterables\n",
    "a_tuple = ('a', 'b', 'c')\n",
    "list_of_things = [string,intiger,boolean] # Notice how I am using the variables we previously declared. Also you don't necesarily need the spaces after a comma.\n",
    "dictionary = {\"frost_key\": \"Santa\", \"fire_key\": \"Demon\"}\n",
    "print(dictionary[\"frost_key\"]) # grab the value that goes to a specific key"
   ]
  },
  {
   "cell_type": "markdown",
   "metadata": {},
   "source": [
    "### Logic\n",
    "\n",
    "Now let's examine how Python handles logical operations that control the flow of the function. This is a core part of Python. If we only want to execute certain code when specific conditions are met, we can use If... Elif... Else... statements. There are a number of important things to notice in the following example:\n",
    " - Code within each if,elif, and else statement are tabbed in by 4 spaces\n",
    " - All the if and elif statements have a boolean check\n",
    " - The else statement has no check and always comes last\n",
    "\n",
    "Some students can really struggle with understanding how and why this code works the way it does. Try spending some time playing around with the code to get a better understanding. You can always create your own code block with a simpler example and work your way up to a more complex statement."
   ]
  },
  {
   "cell_type": "code",
   "execution_count": 8,
   "metadata": {},
   "outputs": [
    {
     "name": "stdout",
     "output_type": "stream",
     "text": [
      "Blaze it!\n"
     ]
    }
   ],
   "source": [
    "# Logic\n",
    "if(intiger < 50):\n",
    "    print(\"That's a small number!\")\n",
    "elif(intiger == 69 and boolean): # You can check multiple things\n",
    "    print(\"Nice!\")\n",
    "elif(intiger == 420 or boolean): # You can have as many elif statements as you want\n",
    "    print(\"Blaze it!\")\n",
    "elif intiger == 2023: # Notice I didn't need to use braces\n",
    "    print(\"Better than 2022!\")\n",
    "else:\n",
    "    print(\"This number isn't special!\")"
   ]
  },
  {
   "cell_type": "markdown",
   "metadata": {},
   "source": [
    "### Loops\n",
    "\n"
   ]
  },
  {
   "cell_type": "code",
   "execution_count": null,
   "metadata": {},
   "outputs": [],
   "source": [
    "# Loops\n",
    "counter = 0\n",
    "while(counter  < 3): # while loop\n",
    "    counter += 1\n",
    "    print(counter)\n",
    "\n",
    "print(\"Before Loop\")\n",
    "for number in range(1,10): # for loop need iterable\n",
    "    print(f\"Start of Loop {number}\")\n",
    "    if(number == 1):\n",
    "        print(\"pass\")\n",
    "        pass\n",
    "    elif(number == 2):\n",
    "        print(\"continue\")\n",
    "        continue\n",
    "    else:\n",
    "        print(\"break\")\n",
    "        break\n",
    "    print(f\"End of Loop {number}\")\n",
    "print(\"After Loop\")"
   ]
  },
  {
   "cell_type": "markdown",
   "metadata": {},
   "source": [
    "### Functions"
   ]
  },
  {
   "cell_type": "code",
   "execution_count": null,
   "metadata": {},
   "outputs": [],
   "source": [
    "# Functions\n",
    "def say_hello(name: str) -> int: # Notice the type hinting? This isn't necessary but is a helpful comment.\n",
    "    '''This functions takes a name, says hello, then return length of name''' # This is a docstring, Basically a fancy comment\n",
    "    response = f\"Hello {name}\"\n",
    "    print(response)\n",
    "    return len(name) # Generally functions return one or more things\n",
    "\n",
    "say_hello(\"World\")"
   ]
  },
  {
   "cell_type": "markdown",
   "metadata": {},
   "source": [
    "### Classes\n",
    "\n"
   ]
  },
  {
   "cell_type": "code",
   "execution_count": null,
   "metadata": {},
   "outputs": [],
   "source": [
    "# Classes\n",
    "class cats: # define a class for cats\n",
    "    color = \"black\"\n",
    "\n",
    "my_cat = cats() # create a instance of the cats class\n",
    "print(my_cat.color)"
   ]
  }
 ],
 "metadata": {
  "kernelspec": {
   "display_name": ".venv",
   "language": "python",
   "name": "python3"
  },
  "language_info": {
   "codemirror_mode": {
    "name": "ipython",
    "version": 3
   },
   "file_extension": ".py",
   "mimetype": "text/x-python",
   "name": "python",
   "nbconvert_exporter": "python",
   "pygments_lexer": "ipython3",
   "version": "3.11.1"
  },
  "orig_nbformat": 4
 },
 "nbformat": 4,
 "nbformat_minor": 2
}
