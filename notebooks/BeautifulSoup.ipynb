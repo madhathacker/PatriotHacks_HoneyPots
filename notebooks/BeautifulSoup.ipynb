{
 "cells": [
  {
   "cell_type": "markdown",
   "metadata": {},
   "source": [
    "# Beautiful Soup (BS4) Tutorial\n",
    "\n",
    "An introduction to the Beautiful Soup Python library."
   ]
  },
  {
   "cell_type": "markdown",
   "metadata": {},
   "source": [
    "## Intro to Beautiful Soup (BS4)\n",
    "\n",
    "> **Note**\n",
    ">\n",
    "> Before you start using a new library, I always recommend taking a look at the documentation: https://beautiful-soup-4.readthedocs.io/en/latest/\n",
    ">\n",
    "\n",
    "There are plenty of guides on the internet giving you a quick introduction on how to use the BS4 library:\n",
    "\n",
    " - https://realpython.com/beautiful-soup-web-scraper-python/\n",
    " - https://www.geeksforgeeks.org/implementing-web-scraping-python-beautiful-soup/\n",
    " - https://www.digitalocean.com/community/tutorials/how-to-scrape-web-pages-with-beautiful-soup-and-python-3\n",
    "\n",
    "> **Note**\n",
    ">\n",
    "> The older version of Beautiful Soup 3 is no longer being developed and  support for it was dropped in 2020. When looking at resources, make sure they are using the new BS4 library.\n",
    ">\n",
    "\n",
    "Before we can begin webscraping, we must first find a webpage to scrape!"
   ]
  },
  {
   "cell_type": "markdown",
   "metadata": {},
   "source": [
    "Let's start by importing the requried libraries into our code.\n",
    "\n",
    "> **Note**\n",
    "> \n",
    "> Make sure you have installed both of these libraries in your local Python enviornment first:\n",
    ">\n",
    "> `pip install requests bs4`\n",
    ">"
   ]
  },
  {
   "cell_type": "code",
   "execution_count": 81,
   "metadata": {},
   "outputs": [],
   "source": [
    "import requests # This is used to request the websites content\n",
    "from bs4 import BeautifulSoup # We only need the BeatifulSoup class from the bs4 library"
   ]
  },
  {
   "cell_type": "markdown",
   "metadata": {},
   "source": [
    "Now let's request a website that we want to scrape, and turn it into a soup!"
   ]
  },
  {
   "cell_type": "code",
   "execution_count": 82,
   "metadata": {},
   "outputs": [
    {
     "name": "stdout",
     "output_type": "stream",
     "text": [
      "<class 'bs4.BeautifulSoup'>\n"
     ]
    }
   ],
   "source": [
    "# Collect and parse first page\n",
    "url_of_website = 'https://interstellar-war.com/killboard' # This is just an example page. In this case, it is a space fleet browser game.\n",
    "page = requests.get(url_of_website) # We use the get function to grab the webpage\n",
    "soup = BeautifulSoup(page.text, 'html.parser') # This is where the magic happens\n",
    "print(type(soup))"
   ]
  },
  {
   "cell_type": "markdown",
   "metadata": {},
   "source": [
    "Now that we have soupified our webpage, we can use the BS4 library to quickly and precsisely find and extract specific elements."
   ]
  },
  {
   "cell_type": "code",
   "execution_count": 83,
   "metadata": {},
   "outputs": [
    {
     "name": "stdout",
     "output_type": "stream",
     "text": [
      "<h2>Most valuable kills - past month</h2>\n",
      "<h2>Most recent kills</h2>\n"
     ]
    }
   ],
   "source": [
    "all_h2_headers = soup.find_all('h2') # This will return a list of all h2 elements on the webpage.\n",
    "for element in all_h2_headers:\n",
    "    print(element)"
   ]
  },
  {
   "cell_type": "code",
   "execution_count": 84,
   "metadata": {},
   "outputs": [
    {
     "name": "stdout",
     "output_type": "stream",
     "text": [
      "<tr>\n",
      " <th>\n",
      "  Time\n",
      " </th>\n",
      " <th style=\"width: 50px; text-align: center;\">\n",
      "  Ship\n",
      " </th>\n",
      " <th style=\"width:115px;\">\n",
      "  Place\n",
      " </th>\n",
      " <th style=\"width: 64px;\">\n",
      " </th>\n",
      " <th>\n",
      "  Victim\n",
      " </th>\n",
      " <th style=\"width: 64px;\">\n",
      " </th>\n",
      " <th>\n",
      "  Final Blow\n",
      " </th>\n",
      "</tr>\n",
      "\n"
     ]
    }
   ],
   "source": [
    "all_table_rows = soup.find_all('tr') # This will return a list of all Table Row (tr) elements on the webpage\n",
    "first_row = all_table_rows[0] # It looks like row 0 contains the table's headers\n",
    "print(first_row.prettify()) # We can make our elements look pretty when we print them"
   ]
  },
  {
   "cell_type": "markdown",
   "metadata": {},
   "source": [
    "Let's try to grab just the column headers from the table's first row.\n",
    "\n",
    "> **Note**\n",
    "> \n",
    "> Notice how we can use the find function on the elements that we got returned from our first find function? Since HTML is a layered language with elements inside of elements, we can keep using finds to narrow down what we are getting returned.\n",
    ">"
   ]
  },
  {
   "cell_type": "code",
   "execution_count": 85,
   "metadata": {},
   "outputs": [
    {
     "name": "stdout",
     "output_type": "stream",
     "text": [
      "Time\n",
      "Ship\n",
      "Place\n",
      " \n",
      "Victim\n",
      " \n",
      "Final Blow\n"
     ]
    }
   ],
   "source": [
    "table_headers = first_row.find_all('th') # This will return a list of all Table Header (th) elements\n",
    "for header in table_headers:\n",
    "    print(header.get_text()) # Since we don't want all that funky html, let's just get the text"
   ]
  },
  {
   "cell_type": "markdown",
   "metadata": {},
   "source": [
    "## Advanced Scraping\n",
    "\n",
    "Now that we have some of the basics down, let's try to do something a bit more useful. Let's try to visualize the ammount of players that died at each of the different locations in the game. In order to do a complex task such as this, let's try to break it into simple steps.\n",
    "\n",
    "1. Grab each of the different pages on the killboard.\n",
    "2. For each page on the killboard, extract the location of the Victim.\n",
    "3. Visualize the data."
   ]
  },
  {
   "cell_type": "code",
   "execution_count": 124,
   "metadata": {},
   "outputs": [],
   "source": [
    "# Let's define a function that extracts the locations from a page\n",
    "def extract_location(url):\n",
    "    '''Function to extract the locations from a webpage'''\n",
    "    page = requests.get(url)\n",
    "    soup = BeautifulSoup(page.text, 'html.parser')\n",
    "    locations = []\n",
    "    table = soup.find(\"tbody\")\n",
    "    rows = table.find_all(\"tr\", class_=\"clickable\")\n",
    "    for row in rows:\n",
    "        columns = row.find_all(\"td\")\n",
    "        location = columns[2].get_text(\"\\n\", strip=True)\n",
    "        locations.append(location)\n",
    "    return locations"
   ]
  },
  {
   "cell_type": "markdown",
   "metadata": {},
   "source": [
    "Now let's use our function to extract all the locations. This may take a few minutes..."
   ]
  },
  {
   "cell_type": "code",
   "execution_count": 125,
   "metadata": {},
   "outputs": [
    {
     "name": "stdout",
     "output_type": "stream",
     "text": [
      "951\n"
     ]
    }
   ],
   "source": [
    "# Now let's grab all the locations from every page by calling our function in a loop\n",
    "base_url = 'https://interstellar-war.com/killboard'\n",
    "all_locations = []\n",
    "for number in range(1,33): # We will grab all 32 pages\n",
    "    target_url = base_url + f'?page={number}' # This if called an f-string. Fun way to insert variabales into strings\n",
    "    locations = extract_location(target_url)\n",
    "    all_locations.extend(locations)\n",
    "print(len(all_locations))"
   ]
  },
  {
   "cell_type": "markdown",
   "metadata": {},
   "source": [
    "## Next Steps\n",
    "\n",
    "Often times you will want to do something with all the data you are scraping. Saving the data to a file, performing data analytics, and visualizing the data are all common next steps."
   ]
  },
  {
   "cell_type": "markdown",
   "metadata": {},
   "source": [
    "### Saving Data"
   ]
  },
  {
   "cell_type": "markdown",
   "metadata": {},
   "source": [
    "### Analyzing Data"
   ]
  },
  {
   "cell_type": "code",
   "execution_count": 126,
   "metadata": {},
   "outputs": [
    {
     "name": "stdout",
     "output_type": "stream",
     "text": [
      "Counter({'Hades\\nJustica': 132, 'Dubhe\\nDraco': 94, 'Miaplacidus\\nSpear': 86, 'Canopus\\nJustica': 66, 'Kochab\\nDraco': 61, 'New Hope\\nSpear': 56, 'Sirius\\nCrux': 55, 'Naos\\nSpear': 51, 'Ceti Alpha\\nSerpens': 44, 'Formalhaut\\nCrux': 31, 'Regulus\\nDraco': 30, 'Polaris\\nSpear': 28, 'Hadar\\nSerpens': 24, 'Megrez\\nSerpens': 23, 'Mizar\\nJustica': 16, 'Rasalhague\\nJustica': 15, 'Vega\\nCrux': 14, 'Ksora\\nSpear': 13, 'Boötes\\nCrux': 12, 'Rasalgethi\\nCrux': 11, 'Prueba\\nSpear': 11, 'Alioth\\nSerpens': 9, 'Proxima\\nJustica': 7, 'Markab\\nJulio': 7, 'Sol\\nCrux': 6, 'Adhara\\nJulio': 6, 'Betelgeux\\nSerpens': 5, 'Pollux\\nSerpens': 4, 'Arcturus\\nJulio': 3, 'Tau Cygni\\nJustica': 3, 'Eltanin\\nLeo': 3, 'Zeta Reticuli\\nDraco': 3, 'Aldebaran\\nJulio': 3, 'El Nath\\nScorpii': 3, 'Wolf 359\\nJustica': 3, 'Deneb\\nSerpens': 2, 'Merak\\nDraco': 2, 'Starmap': 2, 'Procyon\\nJulio': 2, 'Achernar\\nScorpii': 1, 'Schedar\\nScorpii': 1, 'Rigel\\nSerpens': 1, 'Al Nair\\nDraco': 1, 'Nullspace': 1})\n"
     ]
    }
   ],
   "source": [
    "from collections import Counter\n",
    "location_count = Counter(all_locations)\n",
    "print(location_count)"
   ]
  },
  {
   "cell_type": "markdown",
   "metadata": {},
   "source": [
    "### Visualizing Data"
   ]
  },
  {
   "cell_type": "code",
   "execution_count": 129,
   "metadata": {},
   "outputs": [
    {
     "data": {
      "image/png": "[encoded data removed]",
      "text/plain": [
       "<Figure size 1000x600 with 1 Axes>"
      ]
     },
     "metadata": {},
     "output_type": "display_data"
    }
   ],
   "source": [
    "import matplotlib.pyplot as plt\n",
    "\n",
    "# Sort the elements by count in descending order\n",
    "sorted_elements = sorted(location_count.items(), key=lambda x: x[1], reverse=True)\n",
    "\n",
    "# Extract the top 10 elements and their counts\n",
    "top_10_elements = [element for element, count in sorted_elements[:10]]\n",
    "top_10_counts = [count for element, count in sorted_elements[:10]]\n",
    "\n",
    "# Create a bar chart\n",
    "plt.figure(figsize=(10, 6))\n",
    "plt.bar(top_10_elements, top_10_counts)\n",
    "plt.xlabel('Location')\n",
    "plt.ylabel('Number of Victims')\n",
    "plt.title('Victims at Places in Interstellar War')\n",
    "plt.show()"
   ]
  }
 ],
 "metadata": {
  "kernelspec": {
   "display_name": "Python 3.10.4 64-bit",
   "language": "python",
   "name": "python3"
  },
  "language_info": {
   "codemirror_mode": {
    "name": "ipython",
    "version": 3
   },
   "file_extension": ".py",
   "mimetype": "text/x-python",
   "name": "python",
   "nbconvert_exporter": "python",
   "pygments_lexer": "ipython3",
   "version": "3.11.1"
  },
  "orig_nbformat": 4,
  "vscode": {
   "interpreter": {
    "hash": "3ad933181bd8a04b432d3370b9dc3b0662ad032c4dfaa4e4f1596c548f763858"
   }
  }
 },
 "nbformat": 4,
 "nbformat_minor": 2
}
